{
  "nbformat": 4,
  "nbformat_minor": 0,
  "metadata": {
    "colab": {
      "provenance": [],
      "authorship_tag": "ABX9TyPSkW2qqXPoTFPcPmKSfG7U",
      "include_colab_link": true
    },
    "kernelspec": {
      "name": "python3",
      "display_name": "Python 3"
    },
    "language_info": {
      "name": "python"
    }
  },
  "cells": [
    {
      "cell_type": "markdown",
      "metadata": {
        "id": "view-in-github",
        "colab_type": "text"
      },
      "source": [
        "<a href=\"https://colab.research.google.com/github/chandini2595/Sentiment_Analysis_Textblob/blob/main/SentimentAnalysisUsingTextblob.ipynb\" target=\"_parent\"><img src=\"https://colab.research.google.com/assets/colab-badge.svg\" alt=\"Open In Colab\"/></a>"
      ]
    },
    {
      "cell_type": "code",
      "source": [
        "from textblob import TextBlob\n",
        "t=input()\n",
        "b=TextBlob(t)\n",
        "if(b.sentiment.polarity>0):\n",
        "  print(t +' : '+'Positive')\n",
        "elif(b.sentiment.polarity<0):\n",
        "  print(t +' : '+'Negative')\n",
        "else:\n",
        "  print(t +' : '+'Neutral')"
      ],
      "metadata": {
        "colab": {
          "base_uri": "https://localhost:8080/"
        },
        "id": "-TAHOOjhuj0-",
        "outputId": "22579593-116e-45ec-8b8e-eb3e7acca89f"
      },
      "execution_count": null,
      "outputs": [
        {
          "output_type": "stream",
          "name": "stdout",
          "text": [
            "I'm sick\n",
            "I'm sick : Negative\n"
          ]
        }
      ]
    },
    {
      "cell_type": "code",
      "source": [
        "import pandas as pd\n",
        "df=pd.read_csv('/content/train.csv', encoding='ISO-8859-1')\n",
        "def sent(text):\n",
        "    b=TextBlob(text)\n",
        "    s=b.sentiment.polarity\n",
        "    if(s>0):\n",
        "        return \"Positive\"\n",
        "    elif(s<0):\n",
        "        return \"Negative\"\n",
        "    else:\n",
        "        return \"Neutral\"\n",
        "print(df.iloc[22]['text']+ ' : ' +sent(df.iloc[22]['text']))"
      ],
      "metadata": {
        "colab": {
          "base_uri": "https://localhost:8080/"
        },
        "id": "RN1_fAly9i09",
        "outputId": "6a88684c-e840-4e6a-d3fb-31a801189250"
      },
      "execution_count": 26,
      "outputs": [
        {
          "output_type": "stream",
          "name": "stdout",
          "text": [
            "is cleaning the house for her family who is comming later today.. : Neutral\n"
          ]
        }
      ]
    }
  ]
}
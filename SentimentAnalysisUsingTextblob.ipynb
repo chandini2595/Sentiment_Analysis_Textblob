{
  "nbformat": 4,
  "nbformat_minor": 0,
  "metadata": {
    "colab": {
      "provenance": [],
      "authorship_tag": "ABX9TyMBNISZe44Wn1xtrdhqcvCO",
      "include_colab_link": true
    },
    "kernelspec": {
      "name": "python3",
      "display_name": "Python 3"
    },
    "language_info": {
      "name": "python"
    }
  },
  "cells": [
    {
      "cell_type": "markdown",
      "metadata": {
        "id": "view-in-github",
        "colab_type": "text"
      },
      "source": [
        "<a href=\"https://colab.research.google.com/github/chandini2595/Sentiment_Analysis_Textblob/blob/main/SentimentAnalysisUsingTextblob.ipynb\" target=\"_parent\"><img src=\"https://colab.research.google.com/assets/colab-badge.svg\" alt=\"Open In Colab\"/></a>"
      ]
    },
    {
      "cell_type": "code",
      "source": [
        "from textblob import TextBlob\n",
        "t='The meeting is scheduled for 3 PM tomorrow.'\n",
        "b=TextBlob(t)\n",
        "if(b.sentiment.polarity>0):\n",
        "  print(t +' : '+'Positive')\n",
        "elif(b.sentiment.polarity<0):\n",
        "  print(t +' : '+'Negative')\n",
        "else:\n",
        "  print(t +' : '+'Neutral')"
      ],
      "metadata": {
        "colab": {
          "base_uri": "https://localhost:8080/"
        },
        "id": "-TAHOOjhuj0-",
        "outputId": "3c17bc31-cc97-42a8-bd17-364b9ccde04b"
      },
      "execution_count": 4,
      "outputs": [
        {
          "output_type": "stream",
          "name": "stdout",
          "text": [
            "The meeting is scheduled for 3 PM tomorrow. : Neutral\n"
          ]
        }
      ]
    }
  ]
}